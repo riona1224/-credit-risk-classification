# Import the modules
import numpy as np
import pandas as pd
from pathlib import Path
from sklearn.metrics import confusion_matrix, classification_report











# Read the CSV file from the Resources folder into a Pandas DataFrame
# YOUR CODE HERE!
lending_df = pd.read_csv('Resources/lending_data.csv')


# Review the DataFrame
# YOUR CODE HERE!
lending_df.head()






# Separate the data into labels and features
# Separate the y variable, the labels
# YOUR CODE HERE!]
y = lending_df['loan_status']


# Separate the X variable, the features
# YOUR CODE HERE!
X = lending_df.drop(columns='loan_status')



# Review the y variable Series
# YOUR CODE HERE!
y.head()



# Review the X variable DataFrame
# YOUR CODE HERE!
x.head()






# Import the train_test_learn module
from sklearn.model_selection import train_test_split

# Split the data using train_test_split
# Assign a random_state of 1 to the function
# YOUR CODE HERE!
X_train, X_test, y_train, y_test = train_test_split(X,y, random_state=1)













# Import the LogisticRegression module from SKLearn
from sklearn.linear_model import LogisticRegression

# Instantiate the Logistic Regression model
# Assign a random_state parameter of 1 to the model
# YOUR CODE HERE!
Model = LogisticRegression(random_state=1)



# Fit the model using training data
# YOUR CODE HERE!

Model.fit(X_train, y_train)






# Make a prediction using the testing data
# YOUR CODE HERE!
prediction = Model.predict(X_test)






# Generate a confusion matrix for the model
# YOUR CODE HERE!
confusion_matrix(y_test, prediction)




# Print the classification report for the model
# YOUR CODE HERE!
from sklearn.metrics import classification_report

target_names = ['Healthy Loan', 'High-risk Loan']
print(classification_report(y_test, prediction, target_names=target_names))









